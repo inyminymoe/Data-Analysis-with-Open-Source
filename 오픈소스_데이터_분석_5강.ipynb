{
  "nbformat": 4,
  "nbformat_minor": 0,
  "metadata": {
    "colab": {
      "provenance": [],
      "include_colab_link": true
    },
    "kernelspec": {
      "name": "python3",
      "display_name": "Python 3"
    },
    "language_info": {
      "name": "python"
    }
  },
  "cells": [
    {
      "cell_type": "markdown",
      "metadata": {
        "id": "view-in-github",
        "colab_type": "text"
      },
      "source": [
        "<a href=\"https://colab.research.google.com/github/inyminymoe/Data-Analysis-with-Open-Source/blob/main/%EC%98%A4%ED%94%88%EC%86%8C%EC%8A%A4_%EB%8D%B0%EC%9D%B4%ED%84%B0_%EB%B6%84%EC%84%9D_5%EA%B0%95.ipynb\" target=\"_parent\"><img src=\"https://colab.research.google.com/assets/colab-badge.svg\" alt=\"Open In Colab\"/></a>"
      ]
    },
    {
      "cell_type": "markdown",
      "source": [
        "# 오픈소스 기반 데이터 분석 5강 - 데이터 저장"
      ],
      "metadata": {
        "id": "O4kC4JMknVnK"
      }
    },
    {
      "cell_type": "markdown",
      "source": [
        "## 5-1 CSV 형식 저장"
      ],
      "metadata": {
        "id": "8DfV0cZLqj_s"
      }
    },
    {
      "cell_type": "code",
      "source": [
        "import pandas as pd\n",
        "\n",
        "data = {\n",
        "    'student_id': [101, 102, 103, 104, 105],\n",
        "    'database_score': [85, 76, 92, 63, 88],\n",
        "    'cloudcomputing_score': [78, 82, 95, 70, 84],\n",
        "    'python_score': [92, 78, 85, 75, 91],\n",
        "    'watch_rate': [0.95, 0.87, 0.99, 0.80, 0.93]\n",
        "}\n",
        "## DataFrame 생성\n",
        "df = pd.DataFrame(data)\n",
        "\n",
        "## CSV 형식 저장\n",
        "df.to_csv('student_analysis.csv', encoding='utf-8', index=False)"
      ],
      "metadata": {
        "id": "DztLRI9gW2lk"
      },
      "execution_count": 13,
      "outputs": []
    },
    {
      "cell_type": "markdown",
      "source": [
        "## 5-2 JSON 형식 저장"
      ],
      "metadata": {
        "id": "CSABzaf3q8XU"
      }
    },
    {
      "cell_type": "code",
      "source": [
        "### 라이브러리 임포트\n",
        "import json\n",
        "import pandas as pd\n",
        "\n",
        "data = {\n",
        "    \"이름\": \"홍길동\",\n",
        "    \"나이\": 25,\n",
        "    \"거주지\": \"서울\",\n",
        "    \"관심사\": [\"프로그래밍\", \"데이터 분석\", \"여행\"]\n",
        "}\n",
        "\n",
        "## json.dump를 이용한 저장\n",
        "with open('output.json', mode='w', encoding='utf-8') as f:\n",
        "    json.dump(data, f, indent=4, ensure_ascii=False) # 들여쓰기(indent) 필수, 한글 ascii 설정필수\n",
        "\n",
        "## DataFrame을 이용한 저장\n",
        "df = pd.DataFrame(data)\n",
        "df.to_json('output_df.json', orient='records', indent=4, force_ascii=False)"
      ],
      "metadata": {
        "id": "7bAgRpizW7Vj"
      },
      "execution_count": 9,
      "outputs": []
    },
    {
      "cell_type": "markdown",
      "source": [
        "## 5-3 Pandas Dataframe 데이터 추출"
      ],
      "metadata": {
        "id": "NMlsQDHtrA_x"
      }
    },
    {
      "cell_type": "code",
      "source": [
        "import pandas as pd\n",
        "\n",
        "data = {\n",
        "    \"이름\": [\"김철수\", \"이영희\", \"박민수\", \"최지훈\", \"정소희\"],\n",
        "    \"학년\": [1, 2, 3, 4, 2],\n",
        "    \"학점\": [4.2, 3.8, 4.5, 3.9, 3.5],\n",
        "    \"학과\": [\"컴퓨터학\", \"경영학\", \"농학\", \"교육학\", \"영어영문학\"],\n",
        "    \"동아리\": [\"프로그래밍\", \"독서토론\", \"로봇공학\", \"봉사활동\", \"음악감상\"]\n",
        "}\n",
        "df = pd.DataFrame(data)\n",
        "df\n",
        "\n",
        "## DataFrame 인덱스 출력\n",
        "print(df.index)\n",
        "\n",
        "## DataFrame 컬럼 출력\n",
        "print(df.columns)\n",
        "\n",
        "## DataFrame 행 출력\n",
        "print(df.values.tolist())\n",
        "print(df.values)\n",
        "\n",
        "## DataFrame 값 출력\n",
        "print(df.values.flatten())\n"
      ],
      "metadata": {
        "id": "dk3xneVAW9_g",
        "colab": {
          "base_uri": "https://localhost:8080/"
        },
        "outputId": "c5c185f5-b2eb-4dbe-9ac0-8442b7812a3e"
      },
      "execution_count": 17,
      "outputs": [
        {
          "output_type": "stream",
          "name": "stdout",
          "text": [
            "RangeIndex(start=0, stop=5, step=1)\n",
            "Index(['이름', '학년', '학점', '학과', '동아리'], dtype='object')\n",
            "[['김철수', 1, 4.2, '컴퓨터학', '프로그래밍'], ['이영희', 2, 3.8, '경영학', '독서토론'], ['박민수', 3, 4.5, '농학', '로봇공학'], ['최지훈', 4, 3.9, '교육학', '봉사활동'], ['정소희', 2, 3.5, '영어영문학', '음악감상']]\n",
            "[['김철수' 1 4.2 '컴퓨터학' '프로그래밍']\n",
            " ['이영희' 2 3.8 '경영학' '독서토론']\n",
            " ['박민수' 3 4.5 '농학' '로봇공학']\n",
            " ['최지훈' 4 3.9 '교육학' '봉사활동']\n",
            " ['정소희' 2 3.5 '영어영문학' '음악감상']]\n",
            "['김철수' 1 4.2 '컴퓨터학' '프로그래밍' '이영희' 2 3.8 '경영학' '독서토론' '박민수' 3 4.5 '농학'\n",
            " '로봇공학' '최지훈' 4 3.9 '교육학' '봉사활동' '정소희' 2 3.5 '영어영문학' '음악감상']\n"
          ]
        }
      ]
    },
    {
      "cell_type": "markdown",
      "source": [
        "## 5-4 DataFrame 생성 방법"
      ],
      "metadata": {
        "id": "ILJd1GLoseqm"
      }
    },
    {
      "cell_type": "code",
      "source": [
        "import pandas as pd\n",
        "import json\n",
        "\n",
        "data = {\n",
        "    \"이름\": [\"김철수\", \"이영희\", \"박민수\", \"최지훈\", \"정소희\"],\n",
        "    \"학년\": [1, 2, 3, 4, 2],\n",
        "    \"학점\": [4.2, 3.8, 4.5, 3.9, 3.5],\n",
        "    \"학과\": [\"컴퓨터공학\", \"경영학\", \"전자공학\", \"의학\", \"심리학\"],\n",
        "    \"동아리\": [\"프로그래밍\", \"독서토론\", \"로봇공학\", \"봉사활동\", \"음악감상\"]\n",
        "}\n",
        "\n",
        "## 딕셔너리, csv, json으로 부터 DataFrame 생성\n",
        "df1 = pd.DataFrame.from_dict(data)\n",
        "df2 = pd.read_csv('students.csv')\n",
        "df3 = pd.read_json('students.json')\n",
        "\n",
        "## 세가지 방법 결과 비교\n",
        "print(df1.shape)\n",
        "print(df2.shape)\n",
        "print(df3.shape)"
      ],
      "metadata": {
        "id": "ISnPLEgNXAmi",
        "colab": {
          "base_uri": "https://localhost:8080/"
        },
        "outputId": "cf4a5162-9f3c-467f-c8b1-697340c5ae4d"
      },
      "execution_count": 18,
      "outputs": [
        {
          "output_type": "stream",
          "name": "stdout",
          "text": [
            "(5, 5)\n",
            "(5, 5)\n",
            "(5, 5)\n"
          ]
        }
      ]
    },
    {
      "cell_type": "markdown",
      "source": [
        "## 5-5 DataFrame 저장 방법"
      ],
      "metadata": {
        "id": "z1N6lAnwsdyU"
      }
    },
    {
      "cell_type": "code",
      "source": [
        "import pandas as pd\n",
        "\n",
        "data = {\n",
        "    \"이름\": [\"김철수\", \"이영희\", \"박민수\", \"최지훈\", \"정소희\"],\n",
        "    \"학년\": [1, 2, 3, 4, 2],\n",
        "    \"학점\": [4.2, 3.8, 4.5, 3.9, 3.5],\n",
        "    \"학과\": [\"컴퓨터공학\", \"경영학\", \"전자공학\", \"의학\", \"심리학\"],\n",
        "    \"동아리\": [\"프로그래밍\", \"독서토론\", \"로봇공학\", \"봉사활동\", \"음악감상\"]\n",
        "}\n",
        "\n",
        "## Dataframe 생성\n",
        "df = pd.DataFrame(data)\n",
        "\n",
        "## CSV, JSON 형식으로 저장\n",
        "df.to_csv('students_scores.csv')\n",
        "df.to_json('students_scores.json')\n",
        "\n",
        "## HTML 형식으로 저장\n",
        "html_table = df.to_html()\n",
        "with open('students_scores.html', 'w') as f:\n",
        "    f.write(html_table)"
      ],
      "metadata": {
        "id": "_dqoWCRoXDrJ"
      },
      "execution_count": 20,
      "outputs": []
    },
    {
      "cell_type": "markdown",
      "source": [
        "## 5-6 실습 시나리오"
      ],
      "metadata": {
        "id": "ifBFAyulsdJb"
      }
    },
    {
      "cell_type": "markdown",
      "source": [
        "## 데이터 수집"
      ],
      "metadata": {
        "id": "muFj6okKyXy6"
      }
    },
    {
      "cell_type": "code",
      "source": [
        "import requests\n",
        "\n",
        "url = \"http://openapi.seoul.go.kr:8088/7657646572696e7931313561474d6b41/json/energyUseDataStatInfo/1/5/2024/12/\"\n",
        "api_key = '7657646572696e7931313561474d6b41'\n",
        "\n",
        "params = {\n",
        "    'serviceKey': api_key,\n",
        "    'returnType': 'json',\n",
        "    'numOfRows': '100',\n",
        "    'pageNo': '1',\n",
        "    'sidoName': '서울',\n",
        "    'ver': '1.0'\n",
        "}\n",
        "\n",
        "## 데이터 수집\n",
        "response = requests.get(url, params=params)\n",
        "\n",
        "## 호출 성공/실패 출력\n",
        "print(response.json())\n"
      ],
      "metadata": {
        "id": "7yCozmQeXJcO",
        "colab": {
          "base_uri": "https://localhost:8080/"
        },
        "outputId": "3ec9a425-db2d-4d35-991f-8af80586b0c8"
      },
      "execution_count": 23,
      "outputs": [
        {
          "output_type": "stream",
          "name": "stdout",
          "text": [
            "{'energyUseDataStatInfo': {'list_total_count': 4110, 'RESULT': {'CODE': 'INFO-000', 'MESSAGE': '정상 처리되었습니다'}, 'row': [{'YEAR': '2024', 'MON': '12', 'HOSTCODE': '강남구', 'DONGCODE': '기타', 'MM_TYPE': '학교', 'TYPE_DIV': '단체', 'TYPE_DIV_CD': 'TB_GROUP', 'CNT': '1', 'EUS': '40385', 'EUS1': '38786', 'EUS2': '38383', 'ECO2_1_MATH_YEAR': '1599', 'ECO2_2_MATH_YEAR': '677.976', 'ECO2_1_MATH': '1800.5', 'ECO2_2_MATH': '763.412', 'ECO2_1': '1800.5', 'ECO2_2': '1800.5', 'E_TOE_YEAR': '0.36777', 'E_RATE_YEAR': '4.123', 'E_TOE_AVG': '0.414', 'E_RATE_AVG': '4.666', 'GUS': '3471', 'GUS1': '6841', 'GUS2': '5855', 'GCO2_1_MATH_YEAR': '-3370', 'GCO2_2_MATH_YEAR': '-7548.8', 'GCO2_1_MATH': '-2877', 'GCO2_2_MATH': '-6444.48', 'GCO2_1': '-2877', 'GCO2_2': '-5754', 'G_TOE_YEAR': '-3.515', 'G_RATE_YEAR': '-49.262', 'G_TOE_AVG': '-3.001', 'G_RATE_AVG': '-45.321', 'WUS': '0', 'WUS1': '0', 'WUS2': '0', 'WCO2_1_MATH_YEAR': '0', 'WCO2_2_MATH_YEAR': '0', 'WCO2_1_MATH': '0', 'WCO2_2_MATH': '0', 'WCO2_1': '0', 'WCO2_2': '0', 'W_RATE_YEAR': '0', 'W_RATE_AVG': '0', 'HUS': '0', 'HUS1': '0', 'HUS2': '0', 'HCO2_1': '0', 'HCO2_2': '0', 'H_RATE_YEAR': '0', 'H_RATE_AVG': '0', 'NOW_CO2': '24898.28', 'YEAR_CO2': '31769.104', 'AVG_CO2': '30579.348', 'TOTAL_CO2_YEAR': '-6870.824', 'TOTAL_CO2_AVG': '-5681.068', 'TOTAL_RATE_YEAR': '-21.627', 'TOTAL_RATE_AVG': '-18.578', 'REG_DATE': '2025-03-01 04:02:55.0'}, {'YEAR': '2024', 'MON': '12', 'HOSTCODE': '강남구', 'DONGCODE': '세곡동', 'MM_TYPE': '학교', 'TYPE_DIV': '단체', 'TYPE_DIV_CD': 'TB_GROUP', 'CNT': '37', 'EUS': '234283', 'EUS1': '266422', 'EUS2': '252713', 'ECO2_1_MATH_YEAR': '-32139', 'ECO2_2_MATH_YEAR': '-13626.936', 'ECO2_1_MATH': '-25284.5', 'ECO2_2_MATH': '-10720.628', 'ECO2_1': '-25197.5', 'ECO2_2': '-25197.5', 'E_TOE_YEAR': '-7.39197', 'E_RATE_YEAR': '-12.063', 'E_TOE_AVG': '-5.815', 'E_RATE_AVG': '-9.741', 'GUS': '10916', 'GUS1': '12625', 'GUS2': '11346', 'GCO2_1_MATH_YEAR': '-1709', 'GCO2_2_MATH_YEAR': '-3828.16', 'GCO2_1_MATH': '-1069.5', 'GCO2_2_MATH': '-2395.68', 'GCO2_1': '-1069.5', 'GCO2_2': '-2139', 'G_TOE_YEAR': '-1.782', 'G_RATE_YEAR': '-13.537', 'G_TOE_AVG': '-1.115', 'G_RATE_AVG': '-8.923', 'WUS': '19186', 'WUS1': '19019', 'WUS2': '19428', 'WCO2_1_MATH_YEAR': '167', 'WCO2_2_MATH_YEAR': '55.444', 'WCO2_1_MATH': '-37.5', 'WCO2_2_MATH': '-12.45', 'WCO2_1': '-37.5', 'WCO2_2': '-112.5', 'W_RATE_YEAR': '0.878', 'W_RATE_AVG': '-0.195', 'HUS': '0', 'HUS1': '0', 'HUS2': '0', 'HCO2_1': '0', 'HCO2_2': '0', 'H_RATE_YEAR': '0', 'H_RATE_AVG': '0', 'NOW_CO2': '130157.584', 'YEAR_CO2': '147557.236', 'AVG_CO2': '143286.342', 'TOTAL_CO2_YEAR': '-17399.652', 'TOTAL_CO2_AVG': '-13128.758', 'TOTAL_RATE_YEAR': '-11.792', 'TOTAL_RATE_AVG': '-9.163', 'REG_DATE': '2025-03-01 04:02:55.0'}, {'YEAR': '2024', 'MON': '12', 'HOSTCODE': '강남구', 'DONGCODE': '수서동', 'MM_TYPE': '학교', 'TYPE_DIV': '단체', 'TYPE_DIV_CD': 'TB_GROUP', 'CNT': '21', 'EUS': '437172', 'EUS1': '419225', 'EUS2': '433610', 'ECO2_1_MATH_YEAR': '17947', 'ECO2_2_MATH_YEAR': '7609.528', 'ECO2_1_MATH': '10754.5', 'ECO2_2_MATH': '4559.908', 'ECO2_1': '10754.5', 'ECO2_2': '10754.5', 'E_TOE_YEAR': '4.12781', 'E_RATE_YEAR': '4.281', 'E_TOE_AVG': '2.474', 'E_RATE_AVG': '2.522', 'GUS': '8826', 'GUS1': '8721', 'GUS2': '8898', 'GCO2_1_MATH_YEAR': '105', 'GCO2_2_MATH_YEAR': '235.2', 'GCO2_1_MATH': '16.5', 'GCO2_2_MATH': '36.96', 'GCO2_1': '16.5', 'GCO2_2': '33', 'G_TOE_YEAR': '0.11', 'G_RATE_YEAR': '1.204', 'G_TOE_AVG': '0.017', 'G_RATE_AVG': '0.187', 'WUS': '12403', 'WUS1': '12096', 'WUS2': '11708', 'WCO2_1_MATH_YEAR': '307', 'WCO2_2_MATH_YEAR': '101.924', 'WCO2_1_MATH': '501', 'WCO2_2_MATH': '166.332', 'WCO2_1': '501', 'WCO2_2': '1503', 'W_RATE_YEAR': '2.538', 'W_RATE_AVG': '4.209', 'HUS': '0', 'HUS1': '0', 'HUS2': '0', 'HCO2_1': '0', 'HCO2_2': '0', 'H_RATE_YEAR': '0', 'H_RATE_AVG': '0', 'NOW_CO2': '209248.964', 'YEAR_CO2': '201302.312', 'AVG_CO2': '204485.764', 'TOTAL_CO2_YEAR': '7946.652', 'TOTAL_CO2_AVG': '4763.2', 'TOTAL_RATE_YEAR': '3.948', 'TOTAL_RATE_AVG': '2.329', 'REG_DATE': '2025-03-01 04:02:55.0'}, {'YEAR': '2024', 'MON': '12', 'HOSTCODE': '강남구', 'DONGCODE': '개포3동', 'MM_TYPE': '학교', 'TYPE_DIV': '단체', 'TYPE_DIV_CD': 'TB_GROUP', 'CNT': '7', 'EUS': '141641', 'EUS1': '136984', 'EUS2': '157222', 'ECO2_1_MATH_YEAR': '4657', 'ECO2_2_MATH_YEAR': '1974.568', 'ECO2_1_MATH': '-5462', 'ECO2_2_MATH': '-2315.888', 'ECO2_1': '-5462', 'ECO2_2': '-5462', 'E_TOE_YEAR': '1.07111', 'E_RATE_YEAR': '3.4', 'E_TOE_AVG': '-1.256', 'E_RATE_AVG': '-3.713', 'GUS': '3469', 'GUS1': '4664', 'GUS2': '3234', 'GCO2_1_MATH_YEAR': '-1195', 'GCO2_2_MATH_YEAR': '-2676.8', 'GCO2_1_MATH': '-480', 'GCO2_2_MATH': '-1075.2', 'GCO2_1': '-480', 'GCO2_2': '-960', 'G_TOE_YEAR': '-1.246', 'G_RATE_YEAR': '-25.622', 'G_TOE_AVG': '-0.501', 'G_RATE_AVG': '-12.155', 'WUS': '0', 'WUS1': '0', 'WUS2': '0', 'WCO2_1_MATH_YEAR': '0', 'WCO2_2_MATH_YEAR': '0', 'WCO2_1_MATH': '0', 'WCO2_2_MATH': '0', 'WCO2_1': '0', 'WCO2_2': '0', 'W_RATE_YEAR': '0', 'W_RATE_AVG': '0', 'HUS': '0', 'HUS1': '0', 'HUS2': '0', 'HCO2_1': '0', 'HCO2_2': '0', 'H_RATE_YEAR': '0', 'H_RATE_AVG': '0', 'NOW_CO2': '67826.344', 'YEAR_CO2': '68528.576', 'AVG_CO2': '71217.432', 'TOTAL_CO2_YEAR': '-702.232', 'TOTAL_CO2_AVG': '-3391.088', 'TOTAL_RATE_YEAR': '-1.025', 'TOTAL_RATE_AVG': '-4.762', 'REG_DATE': '2025-03-01 04:02:55.0'}, {'YEAR': '2024', 'MON': '12', 'HOSTCODE': '강남구', 'DONGCODE': '일원1동', 'MM_TYPE': '학교', 'TYPE_DIV': '단체', 'TYPE_DIV_CD': 'TB_GROUP', 'CNT': '8', 'EUS': '159210', 'EUS1': '218162', 'EUS2': '197845', 'ECO2_1_MATH_YEAR': '-58952', 'ECO2_2_MATH_YEAR': '-24995.648', 'ECO2_1_MATH': '-48793.5', 'ECO2_2_MATH': '-20688.444', 'ECO2_1': '-48793.5', 'ECO2_2': '-48793.5', 'E_TOE_YEAR': '-13.55896', 'E_RATE_YEAR': '-27.022', 'E_TOE_AVG': '-11.223', 'E_RATE_AVG': '-23.458', 'GUS': '1818', 'GUS1': '2716', 'GUS2': '2532', 'GCO2_1_MATH_YEAR': '-898', 'GCO2_2_MATH_YEAR': '-2011.52', 'GCO2_1_MATH': '-806', 'GCO2_2_MATH': '-1805.44', 'GCO2_1': '-806', 'GCO2_2': '-1612', 'G_TOE_YEAR': '-0.937', 'G_RATE_YEAR': '-33.063', 'G_TOE_AVG': '-0.841', 'G_RATE_AVG': '-30.716', 'WUS': '5149', 'WUS1': '9084', 'WUS2': '8031', 'WCO2_1_MATH_YEAR': '-3935', 'WCO2_2_MATH_YEAR': '-1306.42', 'WCO2_1_MATH': '-3408.5', 'WCO2_2_MATH': '-1131.622', 'WCO2_1': '-3408.5', 'WCO2_2': '-10225.5', 'W_RATE_YEAR': '-43.318', 'W_RATE_AVG': '-39.831', 'HUS': '0', 'HUS1': '0', 'HUS2': '0', 'HCO2_1': '0', 'HCO2_2': '0', 'H_RATE_YEAR': '0', 'H_RATE_AVG': '0', 'NOW_CO2': '73286.828', 'YEAR_CO2': '101600.416', 'AVG_CO2': '96912.334', 'TOTAL_CO2_YEAR': '-28313.588', 'TOTAL_CO2_AVG': '-23625.506', 'TOTAL_RATE_YEAR': '-27.868', 'TOTAL_RATE_AVG': '-24.378', 'REG_DATE': '2025-03-01 04:02:55.0'}]}}\n"
          ]
        }
      ]
    },
    {
      "cell_type": "markdown",
      "source": [
        "## 데이터 프레임 생성"
      ],
      "metadata": {
        "id": "d6mT4IxkySzI"
      }
    },
    {
      "cell_type": "code",
      "source": [
        "import pandas as pd\n",
        "\n",
        "## requests로부터 response, body, item 항목 읽기\n",
        "\n"
      ],
      "metadata": {
        "id": "HOOo9qTsXLkB"
      },
      "execution_count": null,
      "outputs": []
    },
    {
      "cell_type": "markdown",
      "source": [
        "## 다양항 형식으로 데이터 저장\n"
      ],
      "metadata": {
        "id": "vVG0HYb0ymeM"
      }
    },
    {
      "cell_type": "code",
      "source": [
        "df.to_csv('air_pollution.csv', index=False, encoding='utf-8')\n",
        "\n",
        "## JSON 형식 데이터 저장\n",
        "\n",
        "## EXCEL 형식 데이터 저장\n",
        "\n",
        "## HTML 형식 데이터 저장\n"
      ],
      "metadata": {
        "id": "HW1ZodpgXNhG"
      },
      "execution_count": null,
      "outputs": []
    }
  ]
}